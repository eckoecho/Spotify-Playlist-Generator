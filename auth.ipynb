import requests

url = "https://accounts.spotify.com/api/token"

payload='grant_type=refresh_token&refresh_token='
headers = {
  'Authorization': 'Basic {{client_credentials}}'
}

response = requests.request("POST", url, headers=headers, data=payload)

print(response.text)
